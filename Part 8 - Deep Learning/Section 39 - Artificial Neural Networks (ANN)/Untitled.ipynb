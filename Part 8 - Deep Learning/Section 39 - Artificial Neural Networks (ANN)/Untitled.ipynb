{
 "cells": [
  {
   "cell_type": "code",
   "execution_count": 2,
   "metadata": {
    "collapsed": false
   },
   "outputs": [],
   "source": [
    "import numpy as np\n",
    "import matplotlib.pyplot as plt\n",
    "import pandas as pd"
   ]
  },
  {
   "cell_type": "code",
   "execution_count": 3,
   "metadata": {
    "collapsed": true
   },
   "outputs": [],
   "source": [
    "dataset = pd.read_csv('Churn_Modelling.csv')\n",
    "X = dataset.iloc[:, 3:13].values\n",
    "y = dataset.iloc[:, 13].values"
   ]
  },
  {
   "cell_type": "code",
   "execution_count": 4,
   "metadata": {
    "collapsed": true
   },
   "outputs": [],
   "source": [
    "from sklearn.preprocessing import LabelEncoder, OneHotEncoder\n",
    "labelencoder_X_1 = LabelEncoder()\n",
    "X[:, 1] = labelencoder_X_1.fit_transform(X[:, 1])\n",
    "labelencoder_X_2 = LabelEncoder()\n",
    "X[:, 2] = labelencoder_X_2.fit_transform(X[:, 2])\n",
    "onehotencoder = OneHotEncoder(categorical_features = [1])\n",
    "X = onehotencoder.fit_transform(X).toarray()\n",
    "X = X[:, 1:]"
   ]
  },
  {
   "cell_type": "code",
   "execution_count": 6,
   "metadata": {
    "collapsed": false
   },
   "outputs": [],
   "source": [
    "from sklearn.cross_validation import train_test_split\n",
    "X_train, X_test, y_train, y_test = train_test_split(X, y, test_size = 0.2, random_state = 0)\n"
   ]
  },
  {
   "cell_type": "code",
   "execution_count": 7,
   "metadata": {
    "collapsed": true
   },
   "outputs": [],
   "source": [
    "from sklearn.preprocessing import StandardScaler\n",
    "sc = StandardScaler()\n",
    "X_train = sc.fit_transform(X_train)\n",
    "X_test = sc.transform(X_test)\n"
   ]
  },
  {
   "cell_type": "code",
   "execution_count": null,
   "metadata": {
    "collapsed": true
   },
   "outputs": [],
   "source": []
  },
  {
   "cell_type": "code",
   "execution_count": 8,
   "metadata": {
    "collapsed": true
   },
   "outputs": [],
   "source": [
    "import keras\n",
    "from keras.models import Sequential\n",
    "from keras.layers import Dense"
   ]
  },
  {
   "cell_type": "code",
   "execution_count": 9,
   "metadata": {
    "collapsed": false
   },
   "outputs": [
    {
     "name": "stderr",
     "output_type": "stream",
     "text": [
      "C:\\Program Files\\Anaconda3\\lib\\site-packages\\ipykernel\\__main__.py:4: UserWarning: Update your `Dense` call to the Keras 2 API: `Dense(activation=\"relu\", units=6, input_dim=11, kernel_initializer=\"uniform\")`\n",
      "C:\\Program Files\\Anaconda3\\lib\\site-packages\\ipykernel\\__main__.py:7: UserWarning: Update your `Dense` call to the Keras 2 API: `Dense(activation=\"relu\", units=6, kernel_initializer=\"uniform\")`\n",
      "C:\\Program Files\\Anaconda3\\lib\\site-packages\\ipykernel\\__main__.py:10: UserWarning: Update your `Dense` call to the Keras 2 API: `Dense(activation=\"sigmoid\", units=1, kernel_initializer=\"uniform\")`\n",
      "C:\\Program Files\\Anaconda3\\lib\\site-packages\\ipykernel\\__main__.py:16: UserWarning: The `nb_epoch` argument in `fit` has been renamed `epochs`.\n"
     ]
    },
    {
     "name": "stdout",
     "output_type": "stream",
     "text": [
      "Epoch 1/100\n",
      "8000/8000 [==============================] - 1s 173us/step - loss: 0.4923 - acc: 0.7955\n",
      "Epoch 2/100\n",
      "8000/8000 [==============================] - 1s 128us/step - loss: 0.4262 - acc: 0.7960\n",
      "Epoch 3/100\n",
      "8000/8000 [==============================] - 1s 112us/step - loss: 0.4183 - acc: 0.8176\n",
      "Epoch 4/100\n",
      "8000/8000 [==============================] - 1s 113us/step - loss: 0.4121 - acc: 0.8305\n",
      "Epoch 5/100\n",
      "8000/8000 [==============================] - 1s 110us/step - loss: 0.4082 - acc: 0.8336\n",
      "Epoch 6/100\n",
      "8000/8000 [==============================] - 1s 119us/step - loss: 0.4056 - acc: 0.8335\n",
      "Epoch 7/100\n",
      "8000/8000 [==============================] - 1s 130us/step - loss: 0.4036 - acc: 0.8361\n",
      "Epoch 8/100\n",
      "8000/8000 [==============================] - 1s 145us/step - loss: 0.4023 - acc: 0.8344\n",
      "Epoch 9/100\n",
      "8000/8000 [==============================] - 1s 148us/step - loss: 0.4012 - acc: 0.8344\n",
      "Epoch 10/100\n",
      "8000/8000 [==============================] - 1s 144us/step - loss: 0.4004 - acc: 0.8364\n",
      "Epoch 11/100\n",
      "8000/8000 [==============================] - 1s 148us/step - loss: 0.4001 - acc: 0.8351\n",
      "Epoch 12/100\n",
      "8000/8000 [==============================] - 1s 149us/step - loss: 0.3992 - acc: 0.8334\n",
      "Epoch 13/100\n",
      "8000/8000 [==============================] - 1s 148us/step - loss: 0.3985 - acc: 0.8370\n",
      "Epoch 14/100\n",
      "8000/8000 [==============================] - 1s 148us/step - loss: 0.3982 - acc: 0.8344\n",
      "Epoch 15/100\n",
      "8000/8000 [==============================] - 1s 149us/step - loss: 0.3981 - acc: 0.8351\n",
      "Epoch 16/100\n",
      "8000/8000 [==============================] - 1s 147us/step - loss: 0.3975 - acc: 0.8369\n",
      "Epoch 17/100\n",
      "8000/8000 [==============================] - 1s 157us/step - loss: 0.3965 - acc: 0.8366\n",
      "Epoch 18/100\n",
      "8000/8000 [==============================] - 1s 148us/step - loss: 0.3972 - acc: 0.8355\n",
      "Epoch 19/100\n",
      "8000/8000 [==============================] - 1s 152us/step - loss: 0.3962 - acc: 0.8360\n",
      "Epoch 20/100\n",
      "8000/8000 [==============================] - 1s 159us/step - loss: 0.3967 - acc: 0.8370\n",
      "Epoch 21/100\n",
      "8000/8000 [==============================] - 1s 158us/step - loss: 0.3967 - acc: 0.8344\n",
      "Epoch 22/100\n",
      "8000/8000 [==============================] - 1s 151us/step - loss: 0.3961 - acc: 0.8371\n",
      "Epoch 23/100\n",
      "8000/8000 [==============================] - 1s 150us/step - loss: 0.3958 - acc: 0.8362\n",
      "Epoch 24/100\n",
      "8000/8000 [==============================] - 1s 150us/step - loss: 0.3962 - acc: 0.8370\n",
      "Epoch 25/100\n",
      "8000/8000 [==============================] - 1s 149us/step - loss: 0.3957 - acc: 0.8360\n",
      "Epoch 26/100\n",
      "8000/8000 [==============================] - 1s 149us/step - loss: 0.3958 - acc: 0.8382\n",
      "Epoch 27/100\n",
      "8000/8000 [==============================] - 1s 154us/step - loss: 0.3959 - acc: 0.8370\n",
      "Epoch 28/100\n",
      "8000/8000 [==============================] - 1s 158us/step - loss: 0.3954 - acc: 0.8381\n",
      "Epoch 29/100\n",
      "8000/8000 [==============================] - 1s 144us/step - loss: 0.3957 - acc: 0.8379\n",
      "Epoch 30/100\n",
      "8000/8000 [==============================] - 1s 154us/step - loss: 0.3950 - acc: 0.8359\n",
      "Epoch 31/100\n",
      "8000/8000 [==============================] - 1s 155us/step - loss: 0.3954 - acc: 0.8361\n",
      "Epoch 32/100\n",
      "8000/8000 [==============================] - 1s 147us/step - loss: 0.3951 - acc: 0.8366\n",
      "Epoch 33/100\n",
      "8000/8000 [==============================] - 1s 155us/step - loss: 0.3953 - acc: 0.8367\n",
      "Epoch 34/100\n",
      "8000/8000 [==============================] - 1s 155us/step - loss: 0.3950 - acc: 0.8361\n",
      "Epoch 35/100\n",
      "8000/8000 [==============================] - 1s 156us/step - loss: 0.3946 - acc: 0.8367\n",
      "Epoch 36/100\n",
      "8000/8000 [==============================] - 1s 147us/step - loss: 0.3954 - acc: 0.8367\n",
      "Epoch 37/100\n",
      "8000/8000 [==============================] - 1s 151us/step - loss: 0.3947 - acc: 0.8365\n",
      "Epoch 38/100\n",
      "8000/8000 [==============================] - 1s 156us/step - loss: 0.3946 - acc: 0.8372\n",
      "Epoch 39/100\n",
      "8000/8000 [==============================] - 1s 154us/step - loss: 0.3940 - acc: 0.8351\n",
      "Epoch 40/100\n",
      "8000/8000 [==============================] - 1s 156us/step - loss: 0.3946 - acc: 0.8372\n",
      "Epoch 41/100\n",
      "8000/8000 [==============================] - 1s 153us/step - loss: 0.3949 - acc: 0.8367\n",
      "Epoch 42/100\n",
      "8000/8000 [==============================] - 1s 159us/step - loss: 0.3946 - acc: 0.8365\n",
      "Epoch 43/100\n",
      "8000/8000 [==============================] - 1s 144us/step - loss: 0.3945 - acc: 0.8366\n",
      "Epoch 44/100\n",
      "8000/8000 [==============================] - 1s 166us/step - loss: 0.3943 - acc: 0.8369\n",
      "Epoch 45/100\n",
      "8000/8000 [==============================] - 1s 151us/step - loss: 0.3944 - acc: 0.8371\n",
      "Epoch 46/100\n",
      "8000/8000 [==============================] - 1s 152us/step - loss: 0.3947 - acc: 0.8369\n",
      "Epoch 47/100\n",
      "8000/8000 [==============================] - 1s 170us/step - loss: 0.3943 - acc: 0.8375\n",
      "Epoch 48/100\n",
      "8000/8000 [==============================] - 1s 174us/step - loss: 0.3941 - acc: 0.8366\n",
      "Epoch 49/100\n",
      "8000/8000 [==============================] - 1s 158us/step - loss: 0.3943 - acc: 0.8365\n",
      "Epoch 50/100\n",
      "8000/8000 [==============================] - 1s 146us/step - loss: 0.3944 - acc: 0.8381\n",
      "Epoch 51/100\n",
      "8000/8000 [==============================] - 1s 151us/step - loss: 0.3941 - acc: 0.8369\n",
      "Epoch 52/100\n",
      "8000/8000 [==============================] - 1s 153us/step - loss: 0.3941 - acc: 0.8374\n",
      "Epoch 53/100\n",
      "8000/8000 [==============================] - 1s 151us/step - loss: 0.3939 - acc: 0.8355\n",
      "Epoch 54/100\n",
      "8000/8000 [==============================] - 1s 153us/step - loss: 0.3938 - acc: 0.8374\n",
      "Epoch 55/100\n",
      "8000/8000 [==============================] - 1s 154us/step - loss: 0.3939 - acc: 0.8381\n",
      "Epoch 56/100\n",
      "8000/8000 [==============================] - 1s 154us/step - loss: 0.3938 - acc: 0.8369\n",
      "Epoch 57/100\n",
      "8000/8000 [==============================] - 1s 153us/step - loss: 0.3942 - acc: 0.8376\n",
      "Epoch 58/100\n",
      "8000/8000 [==============================] - 1s 152us/step - loss: 0.3938 - acc: 0.8380\n",
      "Epoch 59/100\n",
      "8000/8000 [==============================] - 1s 153us/step - loss: 0.3941 - acc: 0.8372\n",
      "Epoch 60/100\n",
      "8000/8000 [==============================] - 1s 166us/step - loss: 0.3938 - acc: 0.8376\n",
      "Epoch 61/100\n",
      "8000/8000 [==============================] - 1s 156us/step - loss: 0.3937 - acc: 0.8377\n",
      "Epoch 62/100\n",
      "8000/8000 [==============================] - 1s 156us/step - loss: 0.3938 - acc: 0.8392\n",
      "Epoch 63/100\n",
      "8000/8000 [==============================] - 1s 174us/step - loss: 0.3938 - acc: 0.8374\n",
      "Epoch 64/100\n",
      "8000/8000 [==============================] - 1s 153us/step - loss: 0.3940 - acc: 0.8369\n",
      "Epoch 65/100\n",
      "8000/8000 [==============================] - 1s 150us/step - loss: 0.3941 - acc: 0.8381\n",
      "Epoch 66/100\n",
      "8000/8000 [==============================] - 1s 152us/step - loss: 0.3936 - acc: 0.8380\n",
      "Epoch 67/100\n",
      "8000/8000 [==============================] - 1s 156us/step - loss: 0.3940 - acc: 0.8384\n",
      "Epoch 68/100\n",
      "8000/8000 [==============================] - 1s 150us/step - loss: 0.3937 - acc: 0.8366\n",
      "Epoch 69/100\n",
      "8000/8000 [==============================] - 1s 158us/step - loss: 0.3940 - acc: 0.8377\n",
      "Epoch 70/100\n",
      "8000/8000 [==============================] - 1s 154us/step - loss: 0.3940 - acc: 0.8384\n",
      "Epoch 71/100\n",
      "8000/8000 [==============================] - 1s 152us/step - loss: 0.3938 - acc: 0.8394\n",
      "Epoch 72/100\n",
      "8000/8000 [==============================] - 1s 154us/step - loss: 0.3937 - acc: 0.8369\n",
      "Epoch 73/100\n",
      "8000/8000 [==============================] - 1s 150us/step - loss: 0.3942 - acc: 0.8387\n",
      "Epoch 74/100\n",
      "8000/8000 [==============================] - 1s 149us/step - loss: 0.3936 - acc: 0.8389\n",
      "Epoch 75/100\n",
      "8000/8000 [==============================] - 1s 158us/step - loss: 0.3933 - acc: 0.8365\n",
      "Epoch 76/100\n",
      "8000/8000 [==============================] - 1s 147us/step - loss: 0.3935 - acc: 0.8384\n",
      "Epoch 77/100\n",
      "8000/8000 [==============================] - 1s 156us/step - loss: 0.3930 - acc: 0.8371\n",
      "Epoch 78/100\n",
      "8000/8000 [==============================] - 1s 157us/step - loss: 0.3937 - acc: 0.8395\n",
      "Epoch 79/100\n",
      "8000/8000 [==============================] - 1s 156us/step - loss: 0.3936 - acc: 0.8375\n",
      "Epoch 80/100\n",
      "8000/8000 [==============================] - 1s 150us/step - loss: 0.3933 - acc: 0.8384\n",
      "Epoch 81/100\n",
      "8000/8000 [==============================] - 1s 154us/step - loss: 0.3937 - acc: 0.8374\n",
      "Epoch 82/100\n",
      "8000/8000 [==============================] - 1s 157us/step - loss: 0.3937 - acc: 0.8381\n",
      "Epoch 83/100\n",
      "8000/8000 [==============================] - 1s 151us/step - loss: 0.3935 - acc: 0.8384\n",
      "Epoch 84/100\n",
      "8000/8000 [==============================] - 1s 158us/step - loss: 0.3939 - acc: 0.8389\n",
      "Epoch 85/100\n",
      "8000/8000 [==============================] - 1s 149us/step - loss: 0.3936 - acc: 0.8386\n",
      "Epoch 86/100\n",
      "8000/8000 [==============================] - 1s 151us/step - loss: 0.3932 - acc: 0.8385\n",
      "Epoch 87/100\n",
      "8000/8000 [==============================] - 1s 148us/step - loss: 0.3931 - acc: 0.8387\n",
      "Epoch 88/100\n",
      "8000/8000 [==============================] - 1s 153us/step - loss: 0.3933 - acc: 0.8385\n",
      "Epoch 89/100\n",
      "8000/8000 [==============================] - 1s 148us/step - loss: 0.3935 - acc: 0.8386\n",
      "Epoch 90/100\n",
      "8000/8000 [==============================] - 1s 157us/step - loss: 0.3929 - acc: 0.8389\n",
      "Epoch 91/100\n",
      "8000/8000 [==============================] - 1s 149us/step - loss: 0.3934 - acc: 0.8389\n",
      "Epoch 92/100\n",
      "8000/8000 [==============================] - 1s 159us/step - loss: 0.3934 - acc: 0.8380\n",
      "Epoch 93/100\n",
      "8000/8000 [==============================] - 1s 163us/step - loss: 0.3932 - acc: 0.8387\n",
      "Epoch 94/100\n",
      "8000/8000 [==============================] - 1s 154us/step - loss: 0.3934 - acc: 0.8370\n",
      "Epoch 95/100\n",
      "8000/8000 [==============================] - 1s 165us/step - loss: 0.3931 - acc: 0.8387\n",
      "Epoch 96/100\n",
      "8000/8000 [==============================] - 1s 154us/step - loss: 0.3927 - acc: 0.8397\n",
      "Epoch 97/100\n",
      "8000/8000 [==============================] - 1s 156us/step - loss: 0.3931 - acc: 0.8390\n",
      "Epoch 98/100\n",
      "8000/8000 [==============================] - 1s 149us/step - loss: 0.3928 - acc: 0.8385\n",
      "Epoch 99/100\n",
      "8000/8000 [==============================] - 1s 154us/step - loss: 0.3930 - acc: 0.8364\n",
      "Epoch 100/100\n",
      "8000/8000 [==============================] - 1s 151us/step - loss: 0.3928 - acc: 0.8390\n"
     ]
    },
    {
     "data": {
      "text/plain": [
       "<keras.callbacks.History at 0x1eab05f1b38>"
      ]
     },
     "execution_count": 9,
     "metadata": {},
     "output_type": "execute_result"
    }
   ],
   "source": [
    "classifier = Sequential()\n",
    "\n",
    "# Adding the input layer and the first hidden layer\n",
    "classifier.add(Dense(output_dim = 6, init = 'uniform', activation = 'relu', input_dim = 11))\n",
    "\n",
    "# Adding the second hidden layer\n",
    "classifier.add(Dense(output_dim = 6, init = 'uniform', activation = 'relu'))\n",
    "\n",
    "# Adding the output layer\n",
    "classifier.add(Dense(output_dim = 1, init = 'uniform', activation = 'sigmoid'))\n",
    "\n",
    "# Compiling the ANN\n",
    "classifier.compile(optimizer = 'adam', loss = 'binary_crossentropy', metrics = ['accuracy'])\n",
    "\n",
    "# Fitting the ANN to the Training set\n",
    "classifier.fit(X_train, y_train, batch_size = 10, nb_epoch = 100)\n"
   ]
  },
  {
   "cell_type": "code",
   "execution_count": 12,
   "metadata": {
    "collapsed": true
   },
   "outputs": [],
   "source": [
    "y_pred = classifier.predict(X_test)\n",
    "y_pred = (y_pred > 0.5)\n",
    "\n",
    "# Making the Confusion Matrix\n",
    "from sklearn.metrics import confusion_matrix\n",
    "cm = confusion_matrix(y_test, y_pred)"
   ]
  },
  {
   "cell_type": "code",
   "execution_count": 13,
   "metadata": {
    "collapsed": false
   },
   "outputs": [
    {
     "data": {
      "text/plain": [
       "array([[1559,   36],\n",
       "       [ 279,  126]])"
      ]
     },
     "execution_count": 13,
     "metadata": {},
     "output_type": "execute_result"
    }
   ],
   "source": [
    "cm"
   ]
  }
 ],
 "metadata": {
  "anaconda-cloud": {},
  "kernelspec": {
   "display_name": "Python [conda root]",
   "language": "python",
   "name": "conda-root-py"
  },
  "language_info": {
   "codemirror_mode": {
    "name": "ipython",
    "version": 3
   },
   "file_extension": ".py",
   "mimetype": "text/x-python",
   "name": "python",
   "nbconvert_exporter": "python",
   "pygments_lexer": "ipython3",
   "version": "3.5.2"
  }
 },
 "nbformat": 4,
 "nbformat_minor": 1
}
